 #for i, edge_index in enumerate(shuffled_indices):
    #    if i < midpoint:  # Random first section
    #        newFRCValue = random.uniform(lower_FRC_le_first_half, higher_FRC_le_first_half)
    #        newECMValue = random.uniform(lower_ECM_le, higher_ECM_le)
    #    else:  # Remaining edges
    #        newFRCValue = random.uniform(lower_FRC_le_second_half, higher_FRC_le_second_half)
    #        newECMValue = random.uniform(lower_ECM_le, higher_ECM_le)

        # Update the DataFrame with the new values for the randomly chosen edge
    #    cellmap.edge_df.loc[edge_index, 'length_elasticity_ECM'] = newECMValue
    #    cellmap.edge_df.loc[edge_index, 'length_elasticity_FRC'] = newFRCValue
    #    cellmap.edge_df.loc[edge_index, 'length_elasticity'] = newFRCValue + newECMValue

