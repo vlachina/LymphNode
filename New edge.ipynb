{
 "cells": [
  {
   "cell_type": "code",
   "execution_count": 2,
   "id": "d18c6c9a-849b-4a66-8aa3-14e631d0f020",
   "metadata": {},
   "outputs": [
    {
     "ename": "ModuleNotFoundError",
     "evalue": "No module named 'tyssue.topology'",
     "output_type": "error",
     "traceback": [
      "\u001b[0;31m---------------------------------------------------------------------------\u001b[0m",
      "\u001b[0;31mModuleNotFoundError\u001b[0m                       Traceback (most recent call last)",
      "\u001b[0;32m/var/folders/8d/wbdvhvz13wd6czrwl5k5y5gc0000gn/T/ipykernel_20284/2426740141.py\u001b[0m in \u001b[0;36m<module>\u001b[0;34m\u001b[0m\n\u001b[1;32m     15\u001b[0m \u001b[0;34m\u001b[0m\u001b[0m\n\u001b[1;32m     16\u001b[0m \u001b[0;34m\u001b[0m\u001b[0m\n\u001b[0;32m---> 17\u001b[0;31m \u001b[0;32mfrom\u001b[0m \u001b[0mtyssue\u001b[0m\u001b[0;34m.\u001b[0m\u001b[0mtopology\u001b[0m\u001b[0;34m.\u001b[0m\u001b[0mbase_topology\u001b[0m \u001b[0;32mimport\u001b[0m \u001b[0madd_vert\u001b[0m\u001b[0;34m\u001b[0m\u001b[0;34m\u001b[0m\u001b[0m\n\u001b[0m\u001b[1;32m     18\u001b[0m \u001b[0;34m\u001b[0m\u001b[0m\n\u001b[1;32m     19\u001b[0m \u001b[0;34m\u001b[0m\u001b[0m\n",
      "\u001b[0;31mModuleNotFoundError\u001b[0m: No module named 'tyssue.topology'"
     ]
    }
   ],
   "source": [
    "import sys\n",
    "import tyssue\n",
    "import random\n",
    "import numpy as np\n",
    "import pandas as pd\n",
    "import numpy as np\n",
    "import json\n",
    "import matplotlib.pylab as plt\n",
    "%matplotlib inline\n",
    "import ipyvolume as ipv\n",
    "from matplotlib import pyplot\n",
    "#from tyssue.solvers import QSSolver\n",
    "\n",
    "from IPython.display import Image\n",
    "\n",
    "\n",
    "from tyssue.topology.base_topology import add_vert\n",
    "\n",
    "\n",
    "from tyssue import config, Sheet, SheetGeometry, History, EventManager, PlanarGeometry\n",
    "from tyssue import SheetGeometry as geom\n",
    "from tyssue import PlanarGeometry as geom\n",
    "from tyssue.draw.plt_draw import create_gif\n",
    "from tyssue.draw.plt_draw import plot_forces\n",
    "from tyssue.draw import sheet_view\n",
    "from tyssue.dynamics import effectors, model_factory\n",
    "from tyssue.dynamics import PlanarModel\n",
    "from tyssue.dynamics import SheetModel as model\n",
    "from tyssue.generation import three_faces_sheet\n",
    "from tyssue.solvers.viscous import EulerSolver\n",
    "from tyssue.solvers.quasistatic import QSSolver\n",
    "from tyssue.draw import sheet_view\n",
    "from tyssue.draw.plt_draw import plot_forces\n",
    "from tyssue.io import hdf5\n",
    "import copy\n",
    "\n",
    "from tyssue.geometry.planar_geometry import PlanarGeometry as geom\n",
    "from tyssue.solvers.quasistatic import QSSolver\n",
    "from tyssue.dynamics.planar_vertex_model import PlanarModel as model\n",
    "\n",
    "\n",
    "from tyssue.stores import load_datasets\n",
    "\n",
    "from sheet_topology import remove_face, cell_division\n",
    "\n",
    "import warnings\n",
    "warnings.filterwarnings('ignore')\n",
    "\n",
    "### T1 transitions\n",
    "\n",
    "from tyssue.topology.sheet_topology import type1_transition\n",
    "from tyssue.topology.base_topology import collapse_edge, remove_face\n",
    "from tyssue.topology.sheet_topology import split_vert as sheet_split\n",
    "from tyssue.topology.bulk_topology import split_vert as bulk_split\n",
    "from tyssue.topology import condition_4i, condition_4ii"
   ]
  },
  {
   "cell_type": "code",
   "execution_count": null,
   "id": "77890398-72cb-4b8b-b77e-ffe8f6d37670",
   "metadata": {},
   "outputs": [],
   "source": [
    "def length_elasticity_range(cellmap, FRC_lower_length_elasticity, FRC_higher_length_elasticity, ECM_lower_length_elasticity, ECM_higher_length_elasticity):\n",
    "    \n",
    "    cellmap.edge_df['length_elasticity_ECM'] = cellmap.edge_df['length_elasticity']\n",
    "    cellmap.edge_df['length_elasticity_FRC'] = cellmap.edge_df['length_elasticity']\n",
    "        \n",
    "    for edge in range(len(cellmap.edge_df)):\n",
    "        FRC = random.randrange(FRC_lower_length_elasticity, FRC_higher_length_elasticity)/10000\n",
    "        ECM = random.randrange(ECM_lower_length_elasticity, ECM_higher_length_elasticity)/10000\n",
    "        cellmap.edge_df['length_elasticity'][edge] = FRC + ECM\n",
    "        cellmap.edge_df['length_elasticity_ECM'][edge] = ECM\n",
    "        cellmap.edge_df['length_elasticity_FRC'][edge] = FRC\n",
    "    return cellmap"
   ]
  },
  {
   "cell_type": "code",
   "execution_count": null,
   "id": "ac99273d-7982-4c91-a65d-e64a2d235e75",
   "metadata": {},
   "outputs": [],
   "source": [
    "def prefered_area_range(cellmap, lower_prefered_area, higher_prefered_area):\n",
    "    for face in range(len(cellmap.face_df)):\n",
    "        newValue = random.randrange(lower_prefered_area, higher_prefered_area)/10000\n",
    "        cellmap.face_df['prefered_area'][face] = newValue\n",
    "    return cellmap"
   ]
  },
  {
   "cell_type": "code",
   "execution_count": null,
   "id": "435a5e7e-5a9a-4990-90bc-a86ef9a0bc57",
   "metadata": {},
   "outputs": [],
   "source": [
    "def change_specs(cellmap, geom, model, history, area_elasticity,\n",
    "                 lower_prefered_area, higher_prefered_area, FRC_lower_length_elasticity, FRC_higher_length_elasticity, ECM_lower_length_elasticity,\n",
    "                 ECM_higher_length_elasticity, line_nought):\n",
    "    \n",
    "    \n",
    "    length_elasticity_range(cellmap, FRC_lower_length_elasticity, FRC_higher_length_elasticity, ECM_lower_length_elasticity, ECM_higher_length_elasticity)\n",
    "    prefered_area_range(cellmap, lower_prefered_area, higher_prefered_area)\n",
    "    \n",
    "    cellmap.face_df[\"area_elasticity\"] = area_elasticity\n",
    "    cellmap.edge_df[\"prefered_length\"] = line_nought\n",
    "\n",
    "\n",
    "    cellmap.vert_df[\"viscosity\"] = 1   \n",
    "    \n",
    "    #cellmap_original.face_df[\"prefered_area\"][0] = 2\n",
    "    #cellmap_original.face_df[\"prefered_area\"][41] = 2\n",
    "\n",
    "    \n",
    "    solver = QSSolver()\n",
    "    res = solver.find_energy_min(cellmap, geom, model)\n",
    "\n",
    "    fig, ax = sheet_view(cellmap, mode=\"quick\")\n",
    "    fig.set_size_inches(10, 10)\n",
    "    \n",
    "\n",
    "        \n",
    "\n",
    "    \n",
    "    cellmap_new = copy.deepcopy(cellmap_original)\n",
    "    geom_new = copy.deepcopy(geom_original)\n",
    "    model_new = copy.deepcopy(model_original)\n",
    "    history_new = copy.deepcopy(history_original)\n",
    "    \n",
    "    return [cellmap_new, geom_new, model_new, history_new]"
   ]
  },
  {
   "cell_type": "code",
   "execution_count": null,
   "id": "7116728a-19c4-4d2c-96b8-9aacf01a268d",
   "metadata": {},
   "outputs": [],
   "source": [
    "## Definition of the sheet\n",
    "\n",
    "cellmap_original = Sheet.planar_sheet_2d('cellmap', 20, 20, 1, 1) # This may need to change\n",
    "geom_original  = PlanarGeometry\n",
    "\n",
    "to_cut = cellmap_original.cut_out([(-2, 10), (-2, 10)])\n",
    "#cellmap_original.remove(to_cut, trim_borders=True)\n",
    "cellmap_original.sanitize(trim_borders=True)\n",
    "geom.center(cellmap_original)\n",
    "geom.update_all(cellmap_original)\n",
    "cellmap_original.update_rank()\n",
    "\n",
    "model_original = model_factory([    \n",
    "    effectors.FaceAreaElasticity,\n",
    "    effectors.LengthElasticity\n",
    "    ])\n",
    "\n",
    "history_original = History(cellmap_original,\n",
    "                           extra_cols={\"edge\":[\"dx\", \"dy\"]})\n",
    "\n",
    "cellmap_original.update_specs(model_original.specs)\n",
    "\n",
    "fig, ax = sheet_view(cellmap_original, ['x', 'y'], mode='quick')"
   ]
  },
  {
   "cell_type": "code",
   "execution_count": null,
   "id": "46729047-fe37-49e7-a3f2-af143b8210f6",
   "metadata": {},
   "outputs": [],
   "source": [
    "[cellmap_H, geom_H, model_H, history_H] = change_specs(cellmap_original, geom_original, model_original, history_original, area_elasticity = 0.5, lower_prefered_area = 1000, higher_prefered_area = 10000, \n",
    "                                                       FRC_lower_length_elasticity = 1000, FRC_higher_length_elasticity = 10000, ECM_lower_length_elasticity = 100, \n",
    "                                                       ECM_higher_length_elasticity = 1000, line_nought = 0.2)"
   ]
  },
  {
   "cell_type": "code",
   "execution_count": null,
   "id": "28fc586f-efdb-4f5e-8c1a-0f8611e9d6de",
   "metadata": {},
   "outputs": [],
   "source": [
    "cellmap_original.edge_df"
   ]
  },
  {
   "cell_type": "code",
   "execution_count": null,
   "id": "b99f4291-690b-4ce3-8f5c-1597a9df7aa8",
   "metadata": {},
   "outputs": [],
   "source": [
    "cellmap_original.face_df"
   ]
  },
  {
   "cell_type": "code",
   "execution_count": null,
   "id": "f8d00115-302c-467a-89b2-303ff0f3d677",
   "metadata": {},
   "outputs": [],
   "source": [
    "draw_specs = tyssue.config.draw.sheet_spec()\n",
    "\n",
    "draw_specs['vert']['visible'] = True\n",
    "\n",
    "draw_specs['vert']['color'] = \"red\"\n",
    "draw_specs['vert']['alpha'] = 0.5\n",
    "draw_specs['vert']['s'] = 5\n",
    "coords = ['x', 'y']\n",
    "fig, ax = sheet_view(cellmap_original, coords, **draw_specs)\n",
    "fig.set_size_inches((10, 10))"
   ]
  },
  {
   "cell_type": "code",
   "execution_count": null,
   "id": "1cebd830-e661-4086-90a2-3d1bba7f4489",
   "metadata": {},
   "outputs": [],
   "source": [
    "new_verts = np.empty((0, 3))\n",
    "for numEdge in range(len(cellmap_original.edge_df)):\n",
    "    currentEdge = cellmap_original.edge_df.loc[numEdge];\n",
    "    if currentEdge['length']>0.7:\n",
    "        new_vert = add_vert(cellmap_original, numEdge)\n",
    "        new_verts = np.append(new_verts, [new_vert])"
   ]
  },
  {
   "cell_type": "code",
   "execution_count": null,
   "id": "532285c2-1696-4a59-bff9-6fc2887addb2",
   "metadata": {},
   "outputs": [],
   "source": [
    "new_verts"
   ]
  },
  {
   "cell_type": "code",
   "execution_count": null,
   "id": "3180d637-2eca-4bf0-915b-224bd94059cc",
   "metadata": {},
   "outputs": [],
   "source": [
    "draw_specs = tyssue.config.draw.sheet_spec()\n",
    "\n",
    "draw_specs['vert']['visible'] = True\n",
    "\n",
    "draw_specs['vert']['color'] = \"red\"\n",
    "draw_specs['vert']['alpha'] = 0.5\n",
    "draw_specs['vert']['s'] = 5\n",
    "coords = ['x', 'y']\n",
    "fig, ax = sheet_view(cellmap_original, coords, **draw_specs)\n",
    "fig.set_size_inches((10, 10))"
   ]
  },
  {
   "cell_type": "code",
   "execution_count": null,
   "id": "ddcc169c-bb0a-482d-a2be-2769bbcfc5b1",
   "metadata": {},
   "outputs": [],
   "source": [
    "fig, ax = sheet_view(cellmap_original)\n",
    "fig.set_size_inches(8, 8)\n",
    "\n",
    "for vert, data in cellmap_original.vert_df.iterrows():\n",
    "    ax.text(data.x, data.y+0.02, vert, weight=\"bold\", color=\"blue\")"
   ]
  },
  {
   "cell_type": "code",
   "execution_count": null,
   "id": "78485188-ccb9-45ed-a634-d5e455e27509",
   "metadata": {},
   "outputs": [],
   "source": [
    "fig, ax = sheet_view(cellmap_original)\n",
    "fig.set_size_inches(8, 8)\n",
    "\n",
    "for face, data in cellmap_original.face_df.iterrows():\n",
    "    ax.text(data.x, data.y+0.02, vert, weight=\"bold\", color=\"blue\")"
   ]
  },
  {
   "cell_type": "code",
   "execution_count": null,
   "id": "b81e17e0-22ac-45e2-be06-6278994810f0",
   "metadata": {},
   "outputs": [],
   "source": [
    "cellmap_original.vert_df"
   ]
  },
  {
   "cell_type": "code",
   "execution_count": null,
   "id": "ff56b3df-980d-439e-bff1-f720bfa56050",
   "metadata": {},
   "outputs": [],
   "source": []
  },
  {
   "cell_type": "code",
   "execution_count": null,
   "id": "01677a3b-d629-4639-bfa0-cd49a1fd92b1",
   "metadata": {},
   "outputs": [],
   "source": [
    "vertex1 = cellmap_original.vert_df.loc[139] \n",
    "vertex2 = cellmap_original.vert_df.loc[106] \n",
    "\n",
    "new_edge = {\n",
    "    \"srce\": vertex1,\n",
    "    \"trgt\": vertex2,\n",
    "    \"face\": 140,  # Assuming the edge is part of the first face\n",
    "}\n",
    "\n",
    "# Append the new edge to the edge data frame\n",
    "cellmap_original.edge_df = cellmap_original.edge_df.append(new_edge, ignore_index=True)"
   ]
  },
  {
   "cell_type": "code",
   "execution_count": null,
   "id": "ddb5b82e-87f6-4618-8673-c62323937444",
   "metadata": {},
   "outputs": [],
   "source": [
    "draw_specs = tyssue.config.draw.sheet_spec()\n",
    "\n",
    "draw_specs['vert']['visible'] = True\n",
    "\n",
    "draw_specs['vert']['color'] = \"red\"\n",
    "draw_specs['vert']['alpha'] = 0.5\n",
    "draw_specs['vert']['s'] = 5\n",
    "coords = ['x', 'y']\n",
    "fig, ax = sheet_view(cellmap_original, coords, **draw_specs)\n",
    "fig.set_size_inches((10, 10))"
   ]
  },
  {
   "cell_type": "code",
   "execution_count": null,
   "id": "924265d7-2c05-461e-ad1c-24cd7d229660",
   "metadata": {},
   "outputs": [],
   "source": []
  },
  {
   "cell_type": "code",
   "execution_count": null,
   "id": "c6a94265-f4e9-4a41-bf99-487261db77ff",
   "metadata": {},
   "outputs": [],
   "source": []
  },
  {
   "cell_type": "code",
   "execution_count": null,
   "id": "f0788791-709e-4e25-a3d1-a8df149d2b38",
   "metadata": {},
   "outputs": [],
   "source": [
    "import logging\n",
    "import warnings\n",
    "\n",
    "import numpy as np\n",
    "import pandas as pd\n",
    "\n",
    "from tyssue.topology.base_topology import add_vert, close_face, collapse_edge, remove_face\n",
    "from tyssue.topology.base_topology import split_vert as base_split_vert"
   ]
  },
  {
   "cell_type": "code",
   "execution_count": null,
   "id": "0c3affd1-c362-47dc-ac17-076ed7b3a659",
   "metadata": {},
   "outputs": [],
   "source": [
    "daughter = cell_division(cellmap_original, 22, geom_original, angle=np.pi/2)\n",
    "monolayer.cell_df.loc[[mother, daughter], 'prefered_area'] /= 2\n",
    "\n",
    "solver = QSSolver()\n",
    "res = solver.find_energy_min(cellmap_original, geom_original, model_original)\n",
    "print(res['success'])\n",
    "\n",
    "fig, ax = sheet_view(cellmap_original)\n",
    "fig.set_size_inches(12, 5)"
   ]
  },
  {
   "cell_type": "code",
   "execution_count": null,
   "id": "c4446db3-9a40-497b-a613-b2d5c53bbb6a",
   "metadata": {},
   "outputs": [],
   "source": [
    "fig, ax = sheet_view(cellmap_original)\n",
    "fig.set_size_inches(8, 8)\n",
    "\n",
    "for face, data in cellmap_original.face_df.iterrows():\n",
    "    ax.text(data.x, data.y, face, fontsize=14, color=\"r\")"
   ]
  },
  {
   "cell_type": "code",
   "execution_count": null,
   "id": "a35aa580-4f11-481f-a464-ea12af97a978",
   "metadata": {},
   "outputs": [],
   "source": [
    "cellmap_original."
   ]
  },
  {
   "cell_type": "code",
   "execution_count": null,
   "id": "dd7b54b2-f68b-42ab-b06a-2163a1b21e25",
   "metadata": {},
   "outputs": [],
   "source": []
  }
 ],
 "metadata": {
  "kernelspec": {
   "display_name": "Python 3 (ipykernel)",
   "language": "python",
   "name": "python3"
  },
  "language_info": {
   "codemirror_mode": {
    "name": "ipython",
    "version": 3
   },
   "file_extension": ".py",
   "mimetype": "text/x-python",
   "name": "python",
   "nbconvert_exporter": "python",
   "pygments_lexer": "ipython3",
   "version": "3.9.7"
  }
 },
 "nbformat": 4,
 "nbformat_minor": 5
}
