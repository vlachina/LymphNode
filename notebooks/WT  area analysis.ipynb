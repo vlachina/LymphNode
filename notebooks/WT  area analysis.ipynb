{
 "cells": [
  {
   "cell_type": "code",
   "execution_count": 2,
   "id": "0c6a4be0-2d9d-467d-a674-69b424f2fadb",
   "metadata": {},
   "outputs": [],
   "source": [
    "import pandas as pd\n",
    "import matplotlib.pyplot as plt"
   ]
  },
  {
   "cell_type": "code",
   "execution_count": 10,
   "id": "f1992780-c32f-4ae6-a1c6-86cdc9839c0b",
   "metadata": {},
   "outputs": [],
   "source": [
    "T_cell_area = pd.read_csv('../Data/Area histogram.csv')"
   ]
  },
  {
   "cell_type": "code",
   "execution_count": 3,
   "id": "21f581a6-1879-4a7b-bf01-3dac973676d0",
   "metadata": {},
   "outputs": [],
   "source": [
    "T_cell_area = pd.read_csv('../Data/T cell area.csv')"
   ]
  },
  {
   "cell_type": "code",
   "execution_count": 4,
   "id": "45ce7c32-c3aa-48d4-8eea-e65e1a3886df",
   "metadata": {},
   "outputs": [],
   "source": [
    "filtered_T_cell_area = T_cell_area[T_cell_area['Area'] > 110]"
   ]
  },
  {
   "cell_type": "code",
   "execution_count": 5,
   "id": "e835e8e8-c93a-44bb-be17-0b4f2e00db89",
   "metadata": {},
   "outputs": [
    {
     "data": {
      "text/html": [
       "<div>\n",
       "<style scoped>\n",
       "    .dataframe tbody tr th:only-of-type {\n",
       "        vertical-align: middle;\n",
       "    }\n",
       "\n",
       "    .dataframe tbody tr th {\n",
       "        vertical-align: top;\n",
       "    }\n",
       "\n",
       "    .dataframe thead th {\n",
       "        text-align: right;\n",
       "    }\n",
       "</style>\n",
       "<table border=\"1\" class=\"dataframe\">\n",
       "  <thead>\n",
       "    <tr style=\"text-align: right;\">\n",
       "      <th></th>\n",
       "      <th>Area</th>\n",
       "    </tr>\n",
       "  </thead>\n",
       "  <tbody>\n",
       "    <tr>\n",
       "      <th>0</th>\n",
       "      <td>394.879</td>\n",
       "    </tr>\n",
       "    <tr>\n",
       "      <th>1</th>\n",
       "      <td>382.657</td>\n",
       "    </tr>\n",
       "    <tr>\n",
       "      <th>2</th>\n",
       "      <td>372.089</td>\n",
       "    </tr>\n",
       "    <tr>\n",
       "      <th>3</th>\n",
       "      <td>370.243</td>\n",
       "    </tr>\n",
       "    <tr>\n",
       "      <th>4</th>\n",
       "      <td>353.883</td>\n",
       "    </tr>\n",
       "    <tr>\n",
       "      <th>...</th>\n",
       "      <td>...</td>\n",
       "    </tr>\n",
       "    <tr>\n",
       "      <th>60</th>\n",
       "      <td>117.834</td>\n",
       "    </tr>\n",
       "    <tr>\n",
       "      <th>61</th>\n",
       "      <td>116.369</td>\n",
       "    </tr>\n",
       "    <tr>\n",
       "      <th>62</th>\n",
       "      <td>114.969</td>\n",
       "    </tr>\n",
       "    <tr>\n",
       "      <th>63</th>\n",
       "      <td>113.250</td>\n",
       "    </tr>\n",
       "    <tr>\n",
       "      <th>64</th>\n",
       "      <td>110.131</td>\n",
       "    </tr>\n",
       "  </tbody>\n",
       "</table>\n",
       "<p>65 rows × 1 columns</p>\n",
       "</div>"
      ],
      "text/plain": [
       "       Area\n",
       "0   394.879\n",
       "1   382.657\n",
       "2   372.089\n",
       "3   370.243\n",
       "4   353.883\n",
       "..      ...\n",
       "60  117.834\n",
       "61  116.369\n",
       "62  114.969\n",
       "63  113.250\n",
       "64  110.131\n",
       "\n",
       "[65 rows x 1 columns]"
      ]
     },
     "execution_count": 5,
     "metadata": {},
     "output_type": "execute_result"
    }
   ],
   "source": [
    "filtered_T_cell_area"
   ]
  },
  {
   "cell_type": "code",
   "execution_count": 6,
   "id": "42948a42-dd31-4738-9141-09722846d52b",
   "metadata": {},
   "outputs": [],
   "source": [
    "normalised_filtered_T_cell_area = filtered_T_cell_area[\"Area\"]/max(filtered_T_cell_area[\"Area\"])"
   ]
  },
  {
   "cell_type": "code",
   "execution_count": 9,
   "id": "60e1ac71-f92e-44c8-980a-52a64dd32d0b",
   "metadata": {},
   "outputs": [
    {
     "data": {
      "text/plain": [
       "Text(0, 0.5, 'Frequency area')"
      ]
     },
     "execution_count": 9,
     "metadata": {},
     "output_type": "execute_result"
    },
    {
     "data": {
      "image/png": "[encoded data removed]",
      "text/plain": [
       "<Figure size 432x288 with 1 Axes>"
      ]
     },
     "metadata": {
      "needs_background": "light"
     },
     "output_type": "display_data"
    }
   ],
   "source": [
    "plt.hist(normalised_filtered_T_cell_area, bins = 15)\n",
    "plt.xlabel('Normalised area')\n",
    "plt.ylabel('Frequency area')"
   ]
  },
  {
   "cell_type": "code",
   "execution_count": 79,
   "id": "8bd29f24-2e61-4e66-971b-52d5b460eefc",
   "metadata": {},
   "outputs": [
    {
     "data": {
      "text/plain": [
       "(array([4.153e+03, 8.500e+01, 3.800e+01, 3.400e+01, 2.300e+01, 1.500e+01,\n",
       "        1.400e+01, 5.000e+00, 8.000e+00, 2.000e+00, 5.000e+00, 5.000e+00,\n",
       "        3.000e+00, 3.000e+00, 3.000e+00, 5.000e+00, 1.000e+00, 1.000e+00,\n",
       "        2.000e+00, 2.000e+00]),\n",
       " array([1.62074965e-04, 5.01539712e-02, 1.00145867e-01, 1.50137764e-01,\n",
       "        2.00129660e-01, 2.50121556e-01, 3.00113452e-01, 3.50105349e-01,\n",
       "        4.00097245e-01, 4.50089141e-01, 5.00081037e-01, 5.50072934e-01,\n",
       "        6.00064830e-01, 6.50056726e-01, 7.00048622e-01, 7.50040519e-01,\n",
       "        8.00032415e-01, 8.50024311e-01, 9.00016207e-01, 9.50008104e-01,\n",
       "        1.00000000e+00]),\n",
       " <BarContainer object of 20 artists>)"
      ]
     },
     "execution_count": 79,
     "metadata": {},
     "output_type": "execute_result"
    },
    {
     "data": {
      "image/png": "[encoded data removed]",
      "text/plain": [
       "<Figure size 432x288 with 1 Axes>"
      ]
     },
     "metadata": {
      "needs_background": "light"
     },
     "output_type": "display_data"
    }
   ],
   "source": [
    "plt.hist(normalised_T_cell_area, bins =20 )"
   ]
  },
  {
   "cell_type": "code",
   "execution_count": 18,
   "id": "7455cde4-6576-4f74-b3b9-0c5c15ec0bd4",
   "metadata": {},
   "outputs": [
    {
     "data": {
      "text/plain": [
       "588.786"
      ]
     },
     "execution_count": 18,
     "metadata": {},
     "output_type": "execute_result"
    }
   ],
   "source": [
    "max(T_cell_area[\"Area\"])"
   ]
  },
  {
   "cell_type": "code",
   "execution_count": null,
   "id": "9010a90e-e635-43ed-966d-eee64952fa1a",
   "metadata": {},
   "outputs": [],
   "source": []
  }
 ],
 "metadata": {
  "kernelspec": {
   "display_name": "Python 3 (ipykernel)",
   "language": "python",
   "name": "python3"
  },
  "language_info": {
   "codemirror_mode": {
    "name": "ipython",
    "version": 3
   },
   "file_extension": ".py",
   "mimetype": "text/x-python",
   "name": "python",
   "nbconvert_exporter": "python",
   "pygments_lexer": "ipython3",
   "version": "3.9.7"
  }
 },
 "nbformat": 4,
 "nbformat_minor": 5
}
