{
 "cells": [
  {
   "cell_type": "code",
   "execution_count": 4,
   "id": "ec7443a2-0bec-43af-972c-d9888189d155",
   "metadata": {},
   "outputs": [
    {
     "ename": "ModuleNotFoundError",
     "evalue": "No module named 'tyssue.topology'",
     "output_type": "error",
     "traceback": [
      "\u001b[0;31m---------------------------------------------------------------------------\u001b[0m",
      "\u001b[0;31mModuleNotFoundError\u001b[0m                       Traceback (most recent call last)",
      "Cell \u001b[0;32mIn[4], line 17\u001b[0m\n\u001b[1;32m     11\u001b[0m \u001b[38;5;28;01mfrom\u001b[39;00m \u001b[38;5;21;01mmatplotlib\u001b[39;00m \u001b[38;5;28;01mimport\u001b[39;00m pyplot\n\u001b[1;32m     14\u001b[0m \u001b[38;5;28;01mfrom\u001b[39;00m \u001b[38;5;21;01mIPython\u001b[39;00m\u001b[38;5;21;01m.\u001b[39;00m\u001b[38;5;21;01mdisplay\u001b[39;00m \u001b[38;5;28;01mimport\u001b[39;00m Image\n\u001b[0;32m---> 17\u001b[0m \u001b[38;5;28;01mfrom\u001b[39;00m \u001b[38;5;21;01mtyssue\u001b[39;00m\u001b[38;5;21;01m.\u001b[39;00m\u001b[38;5;21;01mtopology\u001b[39;00m \u001b[38;5;28;01mimport\u001b[39;00m add_vert\n\u001b[1;32m     20\u001b[0m \u001b[38;5;28;01mfrom\u001b[39;00m \u001b[38;5;21;01mtyssue\u001b[39;00m \u001b[38;5;28;01mimport\u001b[39;00m config, Sheet, SheetGeometry, History, EventManager, PlanarGeometry\n\u001b[1;32m     21\u001b[0m \u001b[38;5;28;01mfrom\u001b[39;00m \u001b[38;5;21;01mtyssue\u001b[39;00m \u001b[38;5;28;01mimport\u001b[39;00m SheetGeometry \u001b[38;5;28;01mas\u001b[39;00m geom\n",
      "\u001b[0;31mModuleNotFoundError\u001b[0m: No module named 'tyssue.topology'"
     ]
    }
   ],
   "source": [
    "import sys\n",
    "import tyssue\n",
    "import random\n",
    "import numpy as np\n",
    "import pandas as pd\n",
    "import numpy as np\n",
    "import json\n",
    "import matplotlib.pylab as plt\n",
    "%matplotlib inline\n",
    "import ipyvolume as ipv\n",
    "from matplotlib import pyplot\n",
    "\n",
    "\n",
    "from IPython.display import Image\n",
    "\n",
    "\n",
    "from tyssue.topology import add_vert\n",
    "\n",
    "\n",
    "from tyssue import config, Sheet, SheetGeometry, History, EventManager, PlanarGeometry\n",
    "from tyssue import SheetGeometry as geom\n",
    "from tyssue import PlanarGeometry as geom\n",
    "from tyssue.draw.plt_draw import create_gif\n",
    "from tyssue.draw.plt_draw import plot_forces\n",
    "from tyssue.draw import sheet_view\n",
    "from tyssue.dynamics import effectors, model_factory\n",
    "from tyssue.dynamics import PlanarModel\n",
    "from tyssue.dynamics import SheetModel as model\n",
    "from tyssue.generation import three_faces_sheet\n",
    "from tyssue.solvers.viscous import EulerSolver\n",
    "from tyssue.solvers.quasistatic import QSSolver\n",
    "from tyssue.draw import sheet_view\n",
    "from tyssue.draw.plt_draw import plot_forces\n",
    "from tyssue.io import hdf5\n",
    "import copy\n",
    "\n",
    "from tyssue.geometry.planar_geometry import PlanarGeometry as geom\n",
    "from tyssue.solvers.quasistatic import QSSolver\n",
    "from tyssue.dynamics.planar_vertex_model import PlanarModel as model\n",
    "\n",
    "\n",
    "from tyssue.stores import load_datasets\n",
    "\n",
    "from tyssue.topology.sheet_topology import remove_face, cell_division\n",
    "\n",
    "import warnings\n",
    "warnings.filterwarnings('ignore')\n",
    "\n",
    "### T1 transitions\n",
    "\n",
    "from tyssue.topology.sheet_topology import type1_transition\n",
    "from tyssue.topology.base_topology import collapse_edge, remove_face\n",
    "from tyssue.topology.sheet_topology import split_vert as sheet_split\n",
    "from tyssue.topology.bulk_topology import split_vert as bulk_split\n",
    "from tyssue.topology import condition_4i, condition_4ii"
   ]
  },
  {
   "cell_type": "code",
   "execution_count": null,
   "id": "39efccc6-b564-4c55-89bf-5b146f52c267",
   "metadata": {},
   "outputs": [],
   "source": [
    "def create_frames(\n",
    "    history,\n",
    "    output,\n",
    "    movie_name,\n",
    "    num_frames=None,\n",
    "    interval=None,\n",
    "    draw_func=None,\n",
    "    margin=5,\n",
    "    **draw_kwds,\n",
    "):\n",
    "    \"\"\"Creates a set of png frames of the recorded history.\n",
    "   \n",
    "    Parameters\n",
    "    ----------\n",
    "    history : a :class:`tyssue.History` object\n",
    "    output : path to the output directory\n",
    "    num_frames : int, the number of frames in the gif\n",
    "    interval : tuples, define begin and end frame of the gif\n",
    "    draw_func : a drawing function\n",
    "         this function must take a `sheet` object as first argument\n",
    "         and return a `fig, ax` pair. Defaults to quick_edge_draw\n",
    "         (aka sheet_view with quick mode)\n",
    "    margin : int, the graph margins in percents, default 5\n",
    "         if margin is -1, let the draw function decide\n",
    "    **draw_kwds are passed to the drawing function\n",
    "    \"\"\"\n",
    "    if draw_func is None:\n",
    "        draw_func = sheet_view\n",
    "\n",
    "    graph_dir = Path(output + '/' + movie_name)\n",
    "    graph_dir.mkdir(parents=True, exist_ok=True)\n",
    "\n",
    "    x, y = coords = draw_kwds.get(\"coords\", history.sheet.coords[:2])\n",
    "    sheet0 = history.retrieve(0)\n",
    "    bounds = sheet0.vert_df[coords].describe().loc[[\"min\", \"max\"]]\n",
    "    delta = (bounds.loc[\"max\"] - bounds.loc[\"min\"]).max()\n",
    "    margin = delta * margin / 100\n",
    "    xlim = bounds.loc[\"min\", x] - margin, bounds.loc[\"max\", x] + margin\n",
    "    ylim = bounds.loc[\"min\", y] - margin, bounds.loc[\"max\", y] + margin\n",
    "\n",
    "    if interval is None:\n",
    "        start, stop = None, None\n",
    "    else:\n",
    "        start, stop = interval[0], interval[1]\n",
    "\n",
    "    for i, (t, sheet) in enumerate(history.browse(start, stop, num_frames)):\n",
    "        try:\n",
    "            fig, ax = draw_func(sheet, **draw_kwds)\n",
    "        except Exception as e:\n",
    "            print(\"Droped frame {i}\")\n",
    "\n",
    "        if isinstance(ax, plt.Axes) and margin >= 0:\n",
    "            ax.set(xlim=xlim, ylim=ylim)\n",
    "        fig.savefig(graph_dir / f\"movie_{i:04d}.png\")\n",
    "        plt.close(fig)"
   ]
  },
  {
   "cell_type": "code",
   "execution_count": null,
   "id": "b928c201-ed90-497f-abe2-e3acf1f7e089",
   "metadata": {},
   "outputs": [],
   "source": [
    "def length_elasticity_range(cellmap, FRC_lower_length_elasticity, FRC_higher_length_elasticity, ECM_lower_length_elasticity, ECM_higher_length_elasticity):\n",
    "    \n",
    "    cellmap.edge_df['length_elasticity_ECM'] = cellmap.edge_df['length_elasticity']\n",
    "    cellmap.edge_df['length_elasticity_FRC'] = cellmap.edge_df['length_elasticity']\n",
    "        \n",
    "    for edge in range(len(cellmap.edge_df)):\n",
    "        FRC = random.randrange(FRC_lower_length_elasticity, FRC_higher_length_elasticity)/10000\n",
    "        ECM = random.randrange(ECM_lower_length_elasticity, ECM_higher_length_elasticity)/10000\n",
    "        cellmap.edge_df['length_elasticity'][edge] = FRC + ECM\n",
    "        cellmap.edge_df['length_elasticity_ECM'][edge] = ECM\n",
    "        cellmap.edge_df['length_elasticity_FRC'][edge] = FRC\n",
    "    return cellmap"
   ]
  },
  {
   "cell_type": "code",
   "execution_count": null,
   "id": "512e3c82-1aab-4b9d-a1e6-8a0a73ea48da",
   "metadata": {},
   "outputs": [],
   "source": [
    "def prefered_area_range(cellmap, lower_prefered_area, higher_prefered_area):\n",
    "    for face in range(len(cellmap.face_df)):\n",
    "        newValue = random.randrange(lower_prefered_area, higher_prefered_area)/10000\n",
    "        cellmap.face_df['prefered_area'][face] = newValue\n",
    "    cellmap.face_df['prefered_area'] = np.exp(cellmap.face_df['prefered_area'])\n",
    "    cellmap.face_df['prefered_area'] = np.exp(cellmap.face_df['prefered_area'])\n",
    "    return cellmap\n",
    "\n"
   ]
  },
  {
   "cell_type": "code",
   "execution_count": null,
   "id": "fd1a442b-e8d0-4c67-bcc0-bc40953e8585",
   "metadata": {},
   "outputs": [],
   "source": [
    "#values = np.random.uniform(0.01, 1, 355)/10000\n",
    "\n",
    "# calculate the standard deviation of the values\n",
    "#std_dev = np.std(values)\n",
    "#std_dev"
   ]
  },
  {
   "cell_type": "code",
   "execution_count": null,
   "id": "9906fb1e-2007-4788-8b86-9de8aa2dbba0",
   "metadata": {},
   "outputs": [],
   "source": [
    "#def prefered_area_range(cellmap, lower_prefered_area, higher_prefered_area):\n",
    "##    for face in range(len(cellmap.face_df)):\n",
    "#        newValue = np.random.lognormal(0.505, std_dev)\n",
    "#        cellmap.face_df['prefered_area'][face] = newValue\n",
    "#    return cellmap"
   ]
  },
  {
   "cell_type": "code",
   "execution_count": null,
   "id": "3701d507-c18a-4d9b-8b37-b3282f3c725f",
   "metadata": {},
   "outputs": [],
   "source": [
    "def change_specs(cellmap, geom, model, history, area_elasticity,\n",
    "                 lower_prefered_area, higher_prefered_area, FRC_lower_length_elasticity, FRC_higher_length_elasticity, ECM_lower_length_elasticity,\n",
    "                 ECM_higher_length_elasticity, line_nought):\n",
    "    \n",
    "    \n",
    "    length_elasticity_range(cellmap, FRC_lower_length_elasticity, FRC_higher_length_elasticity, ECM_lower_length_elasticity, ECM_higher_length_elasticity)\n",
    "    prefered_area_range(cellmap, lower_prefered_area, higher_prefered_area)\n",
    "    \n",
    "    cellmap.face_df[\"area_elasticity\"] = area_elasticity\n",
    "    cellmap.edge_df[\"prefered_length\"] = line_nought\n",
    "\n",
    "\n",
    "    cellmap.vert_df[\"viscosity\"] = 1 \n",
    "    \n",
    "    geom.update_all(cellmap)\n",
    "    \n",
    "    \n",
    "    #for i in range(endTime):\n",
    "    #    solver = QSSolver()\n",
    "    #    res = solver.find_energy_min(cellmap, geom, model)\n",
    "    #    geom.update_all(cellmap)\n",
    "    #   history.record(time_stamp=i)\n",
    "    \n",
    "    solver = QSSolver()\n",
    "    res = solver.find_energy_min(cellmap, geom, model)\n",
    "\n",
    "    fig, ax = sheet_view(cellmap, mode=\"quick\")\n",
    "    fig.set_size_inches(10, 10)\n",
    "    \n",
    "    cellmap_new = copy.deepcopy(cellmap)\n",
    "    geom_new = copy.deepcopy(geom)\n",
    "    model_new = copy.deepcopy(model)\n",
    "    history_new = copy.deepcopy(history)\n",
    "    \n",
    "    return [cellmap_new, geom_new, model_new, history_new]"
   ]
  },
  {
   "cell_type": "code",
   "execution_count": null,
   "id": "a2f401dc-0f4b-461f-b5c8-67eb5c14e2cd",
   "metadata": {
    "tags": []
   },
   "outputs": [],
   "source": [
    "## Definition of the sheet\n",
    "\n",
    "cellmap_original = Sheet.planar_sheet_2d('cellmap', 30, 30, 1, 1, noise = 0.2) # This may need to change\n",
    "geom_original  = PlanarGeometry\n",
    "\n",
    "to_cut = cellmap_original.cut_out([(0, 20), (0, 20)])\n",
    "cellmap_original.remove(to_cut, trim_borders=True)\n",
    "\n",
    "cellmap_original.sanitize(trim_borders = True)\n",
    "geom.update_all(cellmap_original)\n",
    "cellmap_original.update_rank()\n",
    "\n",
    "model_original = model_factory([    \n",
    "    effectors.FaceAreaElasticity,\n",
    "    effectors.LengthElasticity\n",
    "    ])\n",
    "\n",
    "history_original = History(cellmap_original,\n",
    "                           extra_cols={\"edge\":[\"dx\", \"dy\"]})\n",
    "\n",
    "cellmap_original.update_specs(model_original.specs)\n",
    "\n",
    "fig, ax = sheet_view(cellmap_original, ['x', 'y'], mode='quick')\n",
    "fig.set_size_inches(10, 10)"
   ]
  },
  {
   "cell_type": "code",
   "execution_count": null,
   "id": "60dd37db-e0c2-4a65-aae1-9e060df5c659",
   "metadata": {},
   "outputs": [],
   "source": [
    "cellmap_original.face_df"
   ]
  },
  {
   "cell_type": "code",
   "execution_count": null,
   "id": "01389325-3246-4e41-a6bd-aeff97e47eff",
   "metadata": {},
   "outputs": [],
   "source": [
    "history_original"
   ]
  },
  {
   "cell_type": "markdown",
   "id": "a38a1a39-bfb0-466d-925b-4cc1f1849bd9",
   "metadata": {},
   "source": [
    "## Phase: Homeostasis"
   ]
  },
  {
   "cell_type": "code",
   "execution_count": null,
   "id": "28d21ef8-24f2-4994-b072-572c8281e0a3",
   "metadata": {
    "tags": []
   },
   "outputs": [],
   "source": [
    "[cellmap_H, geom_H, model_H, history_H] = change_specs(cellmap_original, geom_original, model_original, history_original, area_elasticity = 0.5, lower_prefered_area = 100, higher_prefered_area = 10000, \n",
    "                                                       FRC_lower_length_elasticity = 1000, FRC_higher_length_elasticity = 10000, ECM_lower_length_elasticity = 10, \n",
    "                                                       ECM_higher_length_elasticity = 1000, line_nought = 0.1)"
   ]
  },
  {
   "cell_type": "code",
   "execution_count": null,
   "id": "b0aeb212-9ad4-4c07-b1e6-ef576537ca36",
   "metadata": {},
   "outputs": [],
   "source": [
    "cellmap_H.face_df[\"area\"].mean()"
   ]
  },
  {
   "cell_type": "code",
   "execution_count": null,
   "id": "e1eaf094-a1e3-4af0-89d8-918fe39f95ea",
   "metadata": {},
   "outputs": [],
   "source": [
    "cellmap_H.edge_df[\"length_elasticity\"].max()"
   ]
  },
  {
   "cell_type": "code",
   "execution_count": null,
   "id": "18cbbb84-6b96-4705-a413-cbb422a3664a",
   "metadata": {},
   "outputs": [],
   "source": [
    "plt.hist(area, bins = 10)\n",
    "plt.xlabel('Normalised area')\n",
    "plt.ylabel('Frequency area')\n"
   ]
  },
  {
   "cell_type": "code",
   "execution_count": null,
   "id": "e6c7721f-c654-4c9d-a236-0696bbe29243",
   "metadata": {},
   "outputs": [],
   "source": [
    "normalised_Area = cellmap_H.face_df[\"area\"]/max(cellmap_H.face_df[\"area\"])"
   ]
  },
  {
   "cell_type": "code",
   "execution_count": null,
   "id": "0e18008e-79aa-4e9d-8636-30719e8e0bf0",
   "metadata": {},
   "outputs": [],
   "source": [
    "normalised_Area"
   ]
  },
  {
   "cell_type": "code",
   "execution_count": null,
   "id": "af777858-d247-468d-9354-ac793b4f6dd6",
   "metadata": {},
   "outputs": [],
   "source": [
    "plt.hist(normalised_Area, bins = 20)\n",
    "plt.xlabel('Normalised area')\n",
    "plt.ylabel('Frequency area')"
   ]
  },
  {
   "cell_type": "code",
   "execution_count": null,
   "id": "bf400f0a-7cbd-4835-9e0b-117354a86287",
   "metadata": {},
   "outputs": [],
   "source": [
    "fig, ax = sheet_view(cellmap_H, mode=\"quick\")\n",
    "fig.set_size_inches(10, 10)\n",
    "fig.\n",
    "plt.savefig('cellmap_homeostasis.png')"
   ]
  },
  {
   "cell_type": "code",
   "execution_count": null,
   "id": "60cb81ca-d308-44a2-88e1-79acd015433b",
   "metadata": {},
   "outputs": [],
   "source": [
    "history_H.face_h[[\"area\",\"time\"]]"
   ]
  },
  {
   "cell_type": "code",
   "execution_count": null,
   "id": "0f8a1858-d057-42c7-a321-9f57ca75b699",
   "metadata": {},
   "outputs": [],
   "source": []
  },
  {
   "cell_type": "code",
   "execution_count": null,
   "id": "edd87868-cb94-46bb-901f-fd3787eaaa19",
   "metadata": {},
   "outputs": [],
   "source": [
    "for i, sheet in history_H:\n",
    "    print(f\"mean area at {i}: {sheet.face_df.area.mean():.3f}\", )"
   ]
  },
  {
   "cell_type": "code",
   "execution_count": null,
   "id": "65f79f46-b98c-4c62-a0ec-b0e967f69913",
   "metadata": {},
   "outputs": [],
   "source": [
    "type(history_H.retrieve(5))"
   ]
  },
  {
   "cell_type": "code",
   "execution_count": null,
   "id": "81f1609e-f57e-4aa7-b4fe-ff3c591f35e0",
   "metadata": {},
   "outputs": [],
   "source": [
    "cellmap_H.face_df[\"area\"].mean()"
   ]
  },
  {
   "cell_type": "code",
   "execution_count": null,
   "id": "e6489987-ef2f-4c9d-bf85-c7d2b339a913",
   "metadata": {},
   "outputs": [],
   "source": [
    "number_of_faces = len(cellmap_H.face_df)\n",
    "mean_area_H = cellmap_H.face_df[\"area\"].mean()\n",
    "total_area_H = number_of_faces*mean_area_H\n",
    "total_area_H"
   ]
  },
  {
   "cell_type": "code",
   "execution_count": null,
   "id": "650cdda6-e3e1-4b1b-9cb5-8726497f48a1",
   "metadata": {},
   "outputs": [],
   "source": [
    "history_H.face_h.loc[history_H.face_h['face'] == 1]"
   ]
  },
  {
   "cell_type": "code",
   "execution_count": null,
   "id": "372dd3e7-845f-4d88-9766-76ea0824361a",
   "metadata": {},
   "outputs": [],
   "source": [
    "cellmap_H.edge_df[\"length_elasticity_ECM\"]"
   ]
  },
  {
   "cell_type": "code",
   "execution_count": null,
   "id": "319f7b96-b14a-4053-8b64-3629f284d913",
   "metadata": {},
   "outputs": [],
   "source": [
    "cellmap_H.edge_df[\"length_elasticity\"]"
   ]
  },
  {
   "cell_type": "code",
   "execution_count": null,
   "id": "b69f86c9-4f54-4cf1-a1e3-b69df4dd0d9f",
   "metadata": {
    "tags": []
   },
   "outputs": [],
   "source": [
    "#fig, ax = sheet_view(cellmap_H, ['x', 'y'])\n",
    "#fig.set_size_inches(15, 15)\n",
    "\n",
    "#for face, data in cellmap_original.face_df.iterrows():\n",
    "#    ax.text(data.y, data.x, face, fontsize=7, color=\"r\")"
   ]
  },
  {
   "cell_type": "code",
   "execution_count": null,
   "id": "a21a4bad-9575-41fe-af4b-2d42ef21294c",
   "metadata": {
    "tags": []
   },
   "outputs": [],
   "source": [
    "#create_frames(history_H, '.', 'homeostasis', num_frames=100)"
   ]
  },
  {
   "cell_type": "code",
   "execution_count": null,
   "id": "5a561acf-c944-493d-b699-56ac26ad0e3d",
   "metadata": {},
   "outputs": [],
   "source": [
    "mean_area_H = cellmap_H.face_df[\"area\"].mean()\n",
    "mean_area_H"
   ]
  },
  {
   "cell_type": "code",
   "execution_count": null,
   "id": "5179e186-f902-4133-a60d-97f71a5f3bd6",
   "metadata": {},
   "outputs": [],
   "source": [
    "cellmap_H.vert_df"
   ]
  },
  {
   "cell_type": "code",
   "execution_count": null,
   "id": "33395b93-08df-4f86-abc0-a7d7db9d195d",
   "metadata": {},
   "outputs": [],
   "source": []
  },
  {
   "cell_type": "markdown",
   "id": "49affe85-2643-4b33-8dfa-5aef9e4b3952",
   "metadata": {
    "tags": []
   },
   "source": [
    "## Phase: Expansion"
   ]
  },
  {
   "cell_type": "code",
   "execution_count": null,
   "id": "284f1f69-3a8d-4ed3-8f57-2212ed86c4c4",
   "metadata": {},
   "outputs": [],
   "source": [
    "endTime = 20\n",
    "\n",
    "current_prefered_area = cellmap_H.face_df['prefered_area']\n",
    "cellmap_H.update_specs(\n",
    "{\"face\": {\"prefered_area\": 3*current_prefered_area}},\n",
    "reset=True)\n",
    "\n",
    "current_FRC_length_elasticity = cellmap_H.edge_df['length_elasticity_FRC']\n",
    "cellmap_H.update_specs(\n",
    "{\"edge\": {\"length_elasticity_FRC\": 0.1*current_FRC_length_elasticity}},\n",
    "reset=True)\n",
    "\n",
    "current_line_nought = cellmap_H.edge_df['prefered_length']\n",
    "cellmap_H.update_specs(\n",
    "{\"edge\": {\"prefered_length\": 1.4*current_line_nought}},\n",
    "reset=True)\n",
    "\n",
    "new_verts = np.empty((0, 3))\n",
    "\n",
    "for numEdge in range(len(cellmap_H.edge_df)):\n",
    "    currentEdge = cellmap_H.edge_df.loc[numEdge];\n",
    "    if currentEdge['length_elasticity']>0.95:\n",
    "        new_vert = add_vert(cellmap_H, numEdge)\n",
    "        new_verts = np.append(new_verts, [new_vert])\n",
    "    solver = QSSolver()\n",
    "    res = solver.find_energy_min(cellmap_H, geom_H, model_H)\n",
    "\n",
    "\n",
    "    \n",
    "#new_verts = np.empty((0, 3))\n",
    "#for numEdge in range(len(cellmap_H.edge_df)):\n",
    "#    currentEdge = cellmap_H.edge_df.loc[numEdge];\n",
    "#    if currentEdge['length']>2:\n",
    "#        new_vert = add_vert(cellmap_H, numEdge)\n",
    "#        new_verts = np.append(new_verts, [new_vert])\n",
    "#        \n",
    "#        for i in range(endTime):\n",
    "#            solver = QSSolver()\n",
    "#            res = solver.find_energy_min(cellmap_H, geom_H, model_H, options={\"ftol\": 1e-2})\n",
    "#            geom_H.update_all(cellmap_H)\n",
    "#            history_H.record(time_stamp = i)\n",
    "\n",
    "geom_H.update_all(cellmap_H)\n",
    "        \n",
    "\n",
    "    \n",
    "    \n",
    "cellmap_E = copy.deepcopy(cellmap_H)\n",
    "geom_E = copy.deepcopy(geom_H)\n",
    "model_E = copy.deepcopy(model_H)\n",
    "history_E = copy.deepcopy(history_H)\n",
    "\n",
    "\n"
   ]
  },
  {
   "cell_type": "code",
   "execution_count": null,
   "id": "8663a5d9-2087-4ade-9a29-80032c84202b",
   "metadata": {},
   "outputs": [],
   "source": [
    "cellmap_E.vert_df"
   ]
  },
  {
   "cell_type": "code",
   "execution_count": null,
   "id": "5dc9b6c8-a429-460b-8693-479f4f78b1bd",
   "metadata": {},
   "outputs": [],
   "source": [
    "draw_specs = tyssue.config.draw.sheet_spec()\n",
    "\n",
    "draw_specs['vert']['visible'] = True\n",
    "\n",
    "draw_specs['vert']['color'] = \"red\"\n",
    "draw_specs['vert']['alpha'] = 0.5\n",
    "draw_specs['vert']['s'] = 5\n",
    "coords = ['x', 'y']\n",
    "fig, ax = sheet_view(cellmap_E, coords, **draw_specs)\n",
    "fig.set_size_inches((10, 10))"
   ]
  },
  {
   "cell_type": "code",
   "execution_count": null,
   "id": "a94c5628-8472-46ac-993e-4d9a112a41bd",
   "metadata": {},
   "outputs": [],
   "source": [
    "cellmap_E.edge_df[\"length\"].nlargest(10)"
   ]
  },
  {
   "cell_type": "code",
   "execution_count": null,
   "id": "3bf4cdc1-99db-42a1-9fd8-8afe16e78d85",
   "metadata": {},
   "outputs": [],
   "source": [
    "cellmap_E.edge_df[\"length_elasticity_FRC\"]"
   ]
  },
  {
   "cell_type": "code",
   "execution_count": null,
   "id": "ce8a32a8-82b8-458a-8793-48ea4799292a",
   "metadata": {},
   "outputs": [],
   "source": [
    "fig, ax = sheet_view(cellmap_E, mode=\"quick\")\n",
    "fig.set_size_inches(10, 10)\n",
    "\n",
    "print(cellmap_E.face_df[\"area\"].mean())\n",
    "#plt.savefig('cellmap_uniform_expansion.png')"
   ]
  },
  {
   "cell_type": "code",
   "execution_count": null,
   "id": "c6a2024b-c61e-4fe7-afe7-199187c0b861",
   "metadata": {},
   "outputs": [],
   "source": [
    "number_of_faces_E = len(cellmap_E.face_df)\n",
    "mean_area_E = cellmap_E.face_df[\"area\"].mean()\n",
    "total_area_E = number_of_faces_E*mean_area_E\n",
    "total_area_E"
   ]
  },
  {
   "cell_type": "code",
   "execution_count": null,
   "id": "c02bc3a8-e5bd-4b14-b3f6-e5c063f3e2bd",
   "metadata": {},
   "outputs": [],
   "source": [
    "cellmap_E.face_df"
   ]
  },
  {
   "cell_type": "code",
   "execution_count": null,
   "id": "b4900985-a490-40a7-8b5f-a96618a05530",
   "metadata": {
    "tags": []
   },
   "outputs": [],
   "source": [
    "#fig, ax = sheet_view(cellmap_E, ['x', 'y'])\n",
    "#fig.set_size_inches(10, 10)\n",
    "\n",
    "#for face, data in cellmap_E.face_df.iterrows():\n",
    "#    ax.text(data.y, data.x, face, fontsize=7, color=\"r\")"
   ]
  },
  {
   "cell_type": "code",
   "execution_count": null,
   "id": "d126a75b-d484-4e3b-bc27-dd59f43c4d2e",
   "metadata": {
    "tags": []
   },
   "outputs": [],
   "source": [
    "#fig, ax = sheet_view(cellmap_E, ['x', 'y'])\n",
    "#fig.set_size_inches(10, 10)"
   ]
  },
  {
   "cell_type": "markdown",
   "id": "f45ca64b-7dfa-4500-b604-2c0974006d26",
   "metadata": {},
   "source": [
    "## Phase: T cell proliferation"
   ]
  },
  {
   "cell_type": "code",
   "execution_count": null,
   "id": "3002dfca-0117-4fa3-bf18-856f30e5b7eb",
   "metadata": {},
   "outputs": [],
   "source": [
    "# Make 40 of A_alphas grow a lot "
   ]
  },
  {
   "cell_type": "code",
   "execution_count": null,
   "id": "f0d258b1-9c67-407a-9324-e08ac96f39e0",
   "metadata": {},
   "outputs": [],
   "source": [
    "#choosing random 10 of Aalphas:\n",
    "\n",
    "endTime = 10\n",
    "\n",
    "ten_random_faces = cellmap_E.face_df.sample(10)\n",
    "current_prefered_area = ten_random_faces[\"prefered_area\"]\n",
    "print(current_prefered_area)\n",
    "ten_random_faces[\"prefered_area\"]= 2.5*current_prefered_area\n",
    "cellmap_E.face_df.loc[ten_random_faces.index, \"prefered_area\"] = ten_random_faces\n",
    "geom_E.update_all(cellmap_E)\n",
    "\n",
    "print(ten_random_faces[\"prefered_area\"])\n",
    "\n",
    "#geom.update_all(cellmap_E)\n",
    "\n",
    "new_verts = np.empty((0, 3))\n",
    "for numEdge in range(len(cellmap_E.edge_df)):\n",
    "    currentEdge = cellmap_E.edge_df.loc[numEdge];\n",
    "    if currentEdge['length']>2:\n",
    "        new_vert = add_vert(cellmap_E, numEdge)\n",
    "        new_verts = np.append(new_verts, [new_vert])\n",
    "    solver_T = QSSolver()\n",
    "    res_T = solver_T.find_energy_min(cellmap_E, geom_E, model_E)\n",
    "\n",
    "#for i in range(endTime):\n",
    "#    solver1 = QSSolver(with_collisions=False, with_t1=False, with_t3=False)\n",
    "#    res1 = solver1.find_energy_min(cellmap_H, geom_H, model_H, options={\"ftol\": 1e-2})\n",
    "#    geom_H.update_all(cellmap_H)\n",
    "#    history_H.record(time_stamp = i)\n",
    "\n",
    "cellmap_T = cellmap_E\n",
    "geom_T = geom_E\n",
    "model_T = model_E\n",
    "history_T = history_E"
   ]
  },
  {
   "cell_type": "code",
   "execution_count": null,
   "id": "b5e3b388-6e5a-45e0-b708-9d7604c37063",
   "metadata": {},
   "outputs": [],
   "source": [
    "fig, ax = sheet_view(cellmap_T, mode=\"quick\")\n",
    "\n",
    "fig.set_size_inches(10, 10)\n",
    "cellmap_T.face_df['area'].mean()\n",
    "#plt.savefig('cellmap_T_cell_expansion.png')"
   ]
  },
  {
   "cell_type": "code",
   "execution_count": null,
   "id": "b8117ad7-32cd-4c20-be44-44e2a8a616c4",
   "metadata": {},
   "outputs": [],
   "source": [
    "cellmap_T.edge_df['length'].nlargest(10)\n"
   ]
  },
  {
   "cell_type": "code",
   "execution_count": null,
   "id": "9a765624-56bd-4a6e-ae64-7cc355ddf790",
   "metadata": {},
   "outputs": [],
   "source": [
    "draw_specs = tyssue.config.draw.sheet_spec()\n",
    "\n",
    "draw_specs['vert']['visible'] = True\n",
    "\n",
    "draw_specs['vert']['color'] = \"red\"\n",
    "draw_specs['vert']['alpha'] = 0.5\n",
    "draw_specs['vert']['s'] = 5\n",
    "coords = ['x', 'y']\n",
    "fig, ax = sheet_view(cellmap_T, coords, **draw_specs)\n",
    "fig.set_size_inches((10, 10))"
   ]
  },
  {
   "cell_type": "code",
   "execution_count": null,
   "id": "357c2428-0397-4364-8cb1-559c8721b409",
   "metadata": {},
   "outputs": [],
   "source": [
    "cellmap_T.edge_df[\"length\"].nlargest(10)"
   ]
  },
  {
   "cell_type": "code",
   "execution_count": null,
   "id": "b1a23b5e-2fdd-4ce0-8ca6-89e92f5786a4",
   "metadata": {},
   "outputs": [],
   "source": [
    "cellmap_T.face_df"
   ]
  },
  {
   "cell_type": "code",
   "execution_count": null,
   "id": "95a054b0-c53d-4e3e-ad7a-84ba3aad2c03",
   "metadata": {},
   "outputs": [],
   "source": [
    "fig, ax = sheet_view(cellmap_T, ['x', 'y'])\n",
    "fig.set_size_inches(12, 12)\n",
    "\n",
    "for face, data in cellmap_T.face_df.iterrows():\n",
    "    ax.text(data.x, data.y, face, fontsize=7, color=\"r\")"
   ]
  },
  {
   "cell_type": "code",
   "execution_count": null,
   "id": "4321ca3e-2937-4bf5-b19a-e8fb9b3f9ccd",
   "metadata": {},
   "outputs": [],
   "source": [
    "draw_specs['edge']['width'] = 1\n",
    "color = cellmap_T.edge_df['length']\n",
    "color[color<0] = 0;\n",
    "ipv.clear()\n",
    "fig2, mesh = sheet_view(cellmap_T, edge={\"color\":color, \"width\":1.5}, mode=\"2D\")\n",
    "fig2.set_size_inches(10, 10)\n",
    "\n",
    "\n",
    "\n",
    "#plt.savefig('length_colour_T.png')"
   ]
  },
  {
   "cell_type": "markdown",
   "id": "1a4f262c-952f-43f4-9453-b710c9773fd4",
   "metadata": {},
   "source": [
    "## Phase: V new vertices "
   ]
  },
  {
   "cell_type": "code",
   "execution_count": null,
   "id": "b4198f56-39ea-4585-b58c-9f59aa266d33",
   "metadata": {
    "tags": []
   },
   "outputs": [],
   "source": [
    "#forty_percent = round(0.4*len(cellmap_T.edge_df['length']))\n",
    "#longest_forty_percent = cellmap_T.edge_df['length'].nlargest(n=forty_percent)\n",
    "#edge_lim = longest_forty_percent.nsmallest(n=1)"
   ]
  },
  {
   "cell_type": "code",
   "execution_count": null,
   "id": "a6d81c9e-b89a-4465-a513-3186f0ef6018",
   "metadata": {
    "tags": []
   },
   "outputs": [],
   "source": [
    "#edge_lim"
   ]
  },
  {
   "cell_type": "code",
   "execution_count": null,
   "id": "ff29c12e-992c-4263-999f-dc6a7ffcdf27",
   "metadata": {
    "tags": []
   },
   "outputs": [],
   "source": [
    "new_verts = np.empty((0, 3))\n",
    "for numEdge in range(len(cellmap_T.edge_df)):\n",
    "    currentEdge = cellmap_T.edge_df.loc[numEdge];\n",
    "    if currentEdge['length']>2:\n",
    "        new_vert = add_vert(cellmap_T, numEdge)\n",
    "        new_verts = np.append(new_verts, [new_vert])\n",
    "    "
   ]
  },
  {
   "cell_type": "code",
   "execution_count": null,
   "id": "d46dde54-15b8-497f-b6ef-c5356c157231",
   "metadata": {
    "tags": []
   },
   "outputs": [],
   "source": [
    "len(new_verts)"
   ]
  },
  {
   "cell_type": "code",
   "execution_count": null,
   "id": "c05346b7-f61d-4d10-802d-296e15c9f90a",
   "metadata": {
    "tags": []
   },
   "outputs": [],
   "source": [
    "draw_specs = tyssue.config.draw.sheet_spec()\n",
    "\n",
    "draw_specs['vert']['visible'] = True\n",
    "\n",
    "draw_specs['vert']['color'] = \"red\"\n",
    "draw_specs['vert']['alpha'] = 0.5\n",
    "draw_specs['vert']['s'] = 5\n",
    "\n",
    "\n",
    "coords = ['x', 'y']\n",
    "fig, ax = sheet_view(cellmap_T, coords, **draw_specs)\n",
    "fig.set_size_inches((12, 12))"
   ]
  },
  {
   "cell_type": "code",
   "execution_count": null,
   "id": "bc4e6321-d21a-4eea-8181-f0c0743b4bad",
   "metadata": {
    "tags": []
   },
   "outputs": [],
   "source": [
    "fig, ax = sheet_view(cellmap_T, ['x', 'y'])\n",
    "fig.set_size_inches(12, 12)\n",
    "for face, data in cellmap_T.face_df.iterrows():\n",
    "    ax.text(data.x, data.y, face, fontsize=7, color=\"r\")"
   ]
  },
  {
   "cell_type": "code",
   "execution_count": null,
   "id": "71286fe8-77f9-4940-874d-678d7a5503a2",
   "metadata": {
    "tags": []
   },
   "outputs": [],
   "source": [
    "ten_random_faces.index"
   ]
  },
  {
   "cell_type": "markdown",
   "id": "fa8134b3-3d2d-4abe-b6cb-36fc50a247a5",
   "metadata": {},
   "source": [
    "### Phase D: cell division"
   ]
  },
  {
   "cell_type": "code",
   "execution_count": null,
   "id": "da205604-250c-4c3a-ac0a-191e8556cc0e",
   "metadata": {},
   "outputs": [],
   "source": [
    "ten_random_faces['prefered_area']"
   ]
  },
  {
   "cell_type": "code",
   "execution_count": null,
   "id": "efd729c3-edf3-4d49-9989-8ffa11051b63",
   "metadata": {
    "tags": []
   },
   "outputs": [],
   "source": [
    "eighty_percent = round(0.4*len(cellmap_T.face_df['area']))\n",
    "print(eighty_percent)\n",
    "longest_eighty_percent = cellmap_T.face_df['area'].nlargest(n=eighty_percent)\n",
    "longest_eighty_percent"
   ]
  },
  {
   "cell_type": "code",
   "execution_count": null,
   "id": "435252fc-4cb4-4957-829e-873f703f3c95",
   "metadata": {
    "tags": []
   },
   "outputs": [],
   "source": [
    "### divide T prolif areas and % of largest areas of your choice\n",
    "\n",
    "\n",
    "#for numFace in range(len(cellmap_T.face_df)):\n",
    "#    if numFace in ten_random_faces.index or numFace in longest_eighty_percent:\n",
    "#        #print(numFace)\n",
    "#        mother = numFace\n",
    "#        daughter = cell_division(cellmap_T, mother, geom_T, angle=np.pi/2)\n",
    "#        cellmap_T.face_df.loc[numFace, \"prefered_area\"] /= 2\n",
    "#        cellmap_T.face_df.loc [daughter, \"prefered_area\"] /= 2\n",
    "#        \n",
    "#        solver = QSSolver()\n",
    "#        res = solver.find_energy_min(cellmap_T, geom_T, model_T)\n",
    "#        \n",
    "#        print(res['success'])\n",
    "        \n",
    "\n",
    "\n",
    "\n",
    "        \n",
    "\n",
    "#cellmap_D = cellmap_T\n",
    "#geom_D = geom_T\n",
    "#model_D = model_T\n",
    "#history_D = history_T\n",
    "\n",
    "#fig, ax = sheet_view(cellmap_D)\n",
    "#fig.set_size_inches(12, 12)"
   ]
  },
  {
   "cell_type": "code",
   "execution_count": null,
   "id": "a8142953-ca59-46ec-adaf-0f8bd4a1f3ba",
   "metadata": {},
   "outputs": [],
   "source": [
    "### divide all T cell areas\n",
    "\n",
    "for numFace in range(len(cellmap_T.face_df)):\n",
    "    mother = numFace\n",
    "    daughter = cell_division(cellmap_T, mother, geom_T, angle=np.pi/2)\n",
    "    if numFace in ten_random_faces:\n",
    "        cellmap_T.face_df.loc[numFace, \"prefered_area\"] /= 4\n",
    "        cellmap_T.face_df.loc [daughter, \"prefered_area\"] /= 4\n",
    "    else:\n",
    "        cellmap_T.face_df.loc[numFace, \"prefered_area\"] /= 2\n",
    "        cellmap_T.face_df.loc [daughter, \"prefered_area\"] /= 2\n",
    "    \n",
    "        \n",
    "    solver = QSSolver()\n",
    "    res = solver.find_energy_min(cellmap_T, geom_T, model_T)\n",
    "        \n",
    "    #print(res['success'])\n",
    "        \n",
    "\n",
    "\n",
    "\n",
    "        \n",
    "\n",
    "cellmap_D = cellmap_T\n",
    "geom_D = geom_T\n",
    "model_D = model_T\n",
    "history_D = history_T\n",
    "\n",
    "fig, ax = sheet_view(cellmap_D)\n",
    "fig.set_size_inches(12, 12)"
   ]
  },
  {
   "cell_type": "code",
   "execution_count": null,
   "id": "ee874255-473f-460f-93ec-a5e5b8f673d4",
   "metadata": {
    "tags": []
   },
   "outputs": [],
   "source": [
    "for numFace in range(len(cellmap_T.face_df)):\n",
    "    if numFace in ten_random_faces.index or numFace in longest_eighty_percent:\n",
    "        #print(numFace)\n",
    "        mother = numFace\n",
    "        daughter = cell_division(cellmap_T, mother, geom_T, angle=np.pi/2)\n",
    "        cellmap_T.face_df.loc[numFace, \"prefered_area\"] /= 2\n",
    "        cellmap_T.face_df.loc [daughter, \"prefered_area\"] /= 2\n",
    "        \n",
    "        solver = QSSolver()\n",
    "        res = solver.find_energy_min(cellmap_T, geom_T, model_T)\n",
    "        \n",
    "        print(res['success'])\n",
    "        \n",
    "\n",
    "\n",
    "\n",
    "        \n",
    "\n",
    "cellmap_D = cellmap_T\n",
    "geom_D = geom_T\n",
    "model_D = model_T\n",
    "history_D = history_T\n",
    "\n",
    "fig, ax = sheet_view(cellmap_D)\n",
    "fig.set_size_inches(12, 12)"
   ]
  },
  {
   "cell_type": "code",
   "execution_count": null,
   "id": "e4c8c6cf-0bbb-45c5-b2e0-a63dc31b8a68",
   "metadata": {},
   "outputs": [],
   "source": [
    "fig, ax = sheet_view(cellmap_D, mode=\"quick\")\n",
    "\n",
    "fig.set_size_inches(10, 10)\n",
    "cellmap_D.face_df['area'].mean()\n",
    "#plt.savefig('cellmap_T_cell_expansion.png')"
   ]
  },
  {
   "cell_type": "code",
   "execution_count": null,
   "id": "39df9d3a-de3a-4e4d-98a4-ddb7e3b14cf9",
   "metadata": {},
   "outputs": [],
   "source": [
    "cellmap_D.face_df['area'].mean()"
   ]
  },
  {
   "cell_type": "code",
   "execution_count": null,
   "id": "bb401de9-f573-4831-83c5-3c2ce977cc5b",
   "metadata": {},
   "outputs": [],
   "source": [
    "len(cellmap_D.face_df)*cellmap_D.face_df['area'].mean()"
   ]
  },
  {
   "cell_type": "code",
   "execution_count": null,
   "id": "4a703fc9-d2c4-4b17-8ea6-ff677c0c03ee",
   "metadata": {},
   "outputs": [],
   "source": [
    "fig, ax = sheet_view(cellmap_D, ['x', 'y'])\n",
    "fig.set_size_inches(12, 12)\n",
    "\n",
    "for face, data in cellmap_D.face_df.iterrows():\n",
    "    ax.text(data.x, data.y, face, fontsize=7, color=\"r\")"
   ]
  },
  {
   "cell_type": "code",
   "execution_count": null,
   "id": "92050fa5-baff-4bac-bec6-b0917e21e7d1",
   "metadata": {},
   "outputs": [],
   "source": [
    "#fig, ax = sheet_view(cellmap_T)\n",
    "#fig.set_size_inches(15, 15)\n",
    "\n",
    "\n",
    "#for edge, data in cellmap_T.edge_df.iterrows():\n",
    "#    ax.text((data.sx+data.tx)/2, (data.sy + data.ty)/2, edge, color=\"blue\")"
   ]
  },
  {
   "cell_type": "code",
   "execution_count": null,
   "id": "e7523d00-f704-492f-854f-dcd69418f435",
   "metadata": {},
   "outputs": [],
   "source": []
  }
 ],
 "metadata": {
  "kernelspec": {
   "display_name": "Python 3 (ipykernel)",
   "language": "python",
   "name": "python3"
  },
  "language_info": {
   "codemirror_mode": {
    "name": "ipython",
    "version": 3
   },
   "file_extension": ".py",
   "mimetype": "text/x-python",
   "name": "python",
   "nbconvert_exporter": "python",
   "pygments_lexer": "ipython3",
   "version": "3.11.3"
  }
 },
 "nbformat": 4,
 "nbformat_minor": 5
}
